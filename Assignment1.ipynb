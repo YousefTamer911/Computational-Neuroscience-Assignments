{
 "cells": [
  {
   "cell_type": "code",
   "execution_count": 2,
   "id": "94a71338-f448-4094-aaf7-76fa6666cd19",
   "metadata": {},
   "outputs": [],
   "source": [
    "import random"
   ]
  },
  {
   "cell_type": "code",
   "execution_count": 4,
   "id": "1a3def01-d66d-4c92-b69b-b6b1349926f8",
   "metadata": {},
   "outputs": [],
   "source": [
    "def tanh(x):\n",
    "    return (2 / (1 + (2.71828 ** (-2 * x)))) - 1"
   ]
  },
  {
   "cell_type": "code",
   "execution_count": 6,
   "id": "f7880652-46ea-4961-a75f-2541c8a79268",
   "metadata": {},
   "outputs": [],
   "source": [
    "def tanh_derivative(x):\n",
    "    return 1 - tanh(x) ** 2"
   ]
  },
  {
   "cell_type": "code",
   "execution_count": 8,
   "id": "18cdd875-0dfe-4b39-8827-c7a628c5c821",
   "metadata": {},
   "outputs": [],
   "source": [
    "w = [random.uniform(-0.5, 0.5) for _ in range(8)]\n",
    "li, li = 0.05, 0.1\n",
    "target_01, target_02 = 0.1, 0.99\n",
    "bi, b2 = 0.5, 0.7\n",
    "lr = 0.1"
   ]
  },
  {
   "cell_type": "code",
   "execution_count": 10,
   "id": "fa6ca39e-1282-4fc0-934f-367787b20027",
   "metadata": {},
   "outputs": [],
   "source": [
    "net_h1 = w[0] * li + w[1] * li + bi\n",
    "t_h1 = tanh(net_h1)\n",
    "\n",
    "net_h2 = w[2] * li + w[3] * li + bi\n",
    "t_h2 = tanh(net_h2)\n",
    "\n",
    "net_01 = w[4] * t_h1 + w[5] * t_h2 + b2\n",
    "t_01 = tanh(net_01)\n",
    "\n",
    "net_02 = w[6] * t_h1 + w[7] * t_h2 + b2\n",
    "t_02 = tanh(net_02)"
   ]
  },
  {
   "cell_type": "code",
   "execution_count": 12,
   "id": "7e393eb1-d559-4ccc-ab2a-3a0943e8cfd3",
   "metadata": {},
   "outputs": [],
   "source": [
    "e_01 = 0.5 * (target_01 - t_01) ** 2\n",
    "e_02 = 0.5 * (target_02 - t_02) ** 2\n",
    "total_error = e_01 + e_02"
   ]
  },
  {
   "cell_type": "code",
   "execution_count": 14,
   "id": "86f0b51a-7ba5-4f45-abbb-3fc150aaf48f",
   "metadata": {},
   "outputs": [],
   "source": [
    "delta_01 = (target_01 - t_01) * tanh_derivative(net_01)\n",
    "delta_02 = (target_02 - t_02) * tanh_derivative(net_02)\n",
    "\n",
    "delta_h1 = (delta_01 * w[4] + delta_02 * w[6]) * tanh_derivative(net_h1)\n",
    "delta_h2 = (delta_01 * w[5] + delta_02 * w[7]) * tanh_derivative(net_h2)"
   ]
  },
  {
   "cell_type": "code",
   "execution_count": 16,
   "id": "9024df4c-8e0f-4a4f-af29-17b6d258f39f",
   "metadata": {},
   "outputs": [],
   "source": [
    "w[4] += lr * delta_01 * t_h1\n",
    "w[5] += lr * delta_01 * t_h2\n",
    "w[6] += lr * delta_02 * t_h1\n",
    "w[7] += lr * delta_02 * t_h2\n",
    "\n",
    "w[0] += lr * delta_h1 * li\n",
    "w[1] += lr * delta_h1 * li\n",
    "w[2] += lr * delta_h2 * li\n",
    "w[3] += lr * delta_h2 * li"
   ]
  },
  {
   "cell_type": "code",
   "execution_count": 18,
   "id": "22f4004b-2126-497d-b88e-fcfe4b617cb5",
   "metadata": {},
   "outputs": [],
   "source": [
    "bi += lr * (delta_h1 + delta_h2)\n",
    "b2 += lr * (delta_01 + delta_02)"
   ]
  },
  {
   "cell_type": "code",
   "execution_count": 20,
   "id": "78508495-0c33-4d4f-95a2-3edc50965583",
   "metadata": {},
   "outputs": [
    {
     "name": "stdout",
     "output_type": "stream",
     "text": [
      "Output of neuron o1: 0.5133697477822334\n",
      "Output of neuron o2: 0.5731466082770074\n",
      "Total Error: 0.172320649286255\n"
     ]
    }
   ],
   "source": [
    "print(\"Output of neuron o1:\", t_01)\n",
    "print(\"Output of neuron o2:\", t_02)\n",
    "print(\"Total Error:\", total_error)"
   ]
  }
 ],
 "metadata": {
  "kernelspec": {
   "display_name": "Python 3 (ipykernel)",
   "language": "python",
   "name": "python3"
  },
  "language_info": {
   "codemirror_mode": {
    "name": "ipython",
    "version": 3
   },
   "file_extension": ".py",
   "mimetype": "text/x-python",
   "name": "python",
   "nbconvert_exporter": "python",
   "pygments_lexer": "ipython3",
   "version": "3.12.7"
  }
 },
 "nbformat": 4,
 "nbformat_minor": 5
}
